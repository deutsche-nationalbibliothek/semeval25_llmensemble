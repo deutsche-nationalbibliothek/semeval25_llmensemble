{
 "cells": [
  {
   "cell_type": "code",
   "execution_count": 5,
   "metadata": {},
   "outputs": [],
   "source": [
    "import pandas as pd\n",
    "from collections import Counter"
   ]
  },
  {
   "cell_type": "code",
   "execution_count": 2,
   "metadata": {},
   "outputs": [],
   "source": [
    "# Read in all dev datasets\n",
    "def prep_ds(filename):\n",
    "    ds_folder = \"../datasets/\"\n",
    "    return pd.read_csv(ds_folder + filename)\n",
    "tib_en = prep_ds(\"tib-core-subjects-Article-Book-Conference-Report-Thesis-en-dev.csv\")\n",
    "all_en = prep_ds(\"all-subjects-Article-Book-Conference-Report-Thesis-en-dev.csv\")\n",
    "tib_de = prep_ds(\"tib-core-subjects-Article-Book-Conference-Report-Thesis-de-dev.csv\")\n",
    "all_de = prep_ds(\"all-subjects-Article-Book-Conference-Report-Thesis-de-dev.csv\")"
   ]
  },
  {
   "cell_type": "code",
   "execution_count": 3,
   "metadata": {},
   "outputs": [],
   "source": [
    "# create one big dataset\n",
    "entire = pd.concat([tib_en, all_en, tib_de, all_de])"
   ]
  },
  {
   "cell_type": "code",
   "execution_count": 6,
   "metadata": {},
   "outputs": [
    {
     "name": "stdout",
     "output_type": "stream",
     "text": [
      "Most common idns:  [('3A1831640503', 2), ('3A729999068', 2), ('3A1831636328', 2), ('3A1815038861', 2), ('3A1655415565', 2), ('3A1659107628', 2), ('3A559227426', 2), ('3A1663672628', 2), ('3A1759344397', 2), ('3A1773891243', 2), ('3A1805279661', 2), ('3A1879440407', 2), ('3A1654798061', 2), ('3A342420364', 2), ('3A524977038', 2), ('3A611625415', 2), ('3A604813368', 2), ('3A1023442620', 2), ('3A1876809701', 2), ('3A1751471586', 2), ('3A1763797236', 2), ('3A181984756X', 2), ('3A1768421765', 2), ('3A1666721735', 2), ('3A877301646', 2), ('3A1856252965', 2), ('3A779315499', 2), ('3A601872967', 2), ('3A644599952', 2), ('3A165324027X', 2)]\n"
     ]
    }
   ],
   "source": [
    "entire_idns = entire.idn.tolist()\n",
    "idn_counts = Counter(entire_idns)\n",
    "print(\"Most common idns: \", idn_counts.most_common(30))"
   ]
  },
  {
   "cell_type": "code",
   "execution_count": 12,
   "metadata": {},
   "outputs": [
    {
     "data": {
      "text/plain": [
       "(20646, 19949)"
      ]
     },
     "execution_count": 12,
     "metadata": {},
     "output_type": "execute_result"
    }
   ],
   "source": [
    "len(entire_idns), len(set(entire_idns))"
   ]
  },
  {
   "cell_type": "code",
   "execution_count": 11,
   "metadata": {},
   "outputs": [
    {
     "data": {
      "text/html": [
       "<div>\n",
       "<style scoped>\n",
       "    .dataframe tbody tr th:only-of-type {\n",
       "        vertical-align: middle;\n",
       "    }\n",
       "\n",
       "    .dataframe tbody tr th {\n",
       "        vertical-align: top;\n",
       "    }\n",
       "\n",
       "    .dataframe thead th {\n",
       "        text-align: right;\n",
       "    }\n",
       "</style>\n",
       "<table border=\"1\" class=\"dataframe\">\n",
       "  <thead>\n",
       "    <tr style=\"text-align: right;\">\n",
       "      <th></th>\n",
       "      <th>language</th>\n",
       "      <th>split</th>\n",
       "      <th>text_type</th>\n",
       "      <th>subjects</th>\n",
       "      <th>idn</th>\n",
       "      <th>title</th>\n",
       "      <th>abstract</th>\n",
       "      <th>dcterms:subject</th>\n",
       "      <th>labels</th>\n",
       "    </tr>\n",
       "  </thead>\n",
       "  <tbody>\n",
       "    <tr>\n",
       "      <th>5</th>\n",
       "      <td>en</td>\n",
       "      <td>dev</td>\n",
       "      <td>Article</td>\n",
       "      <td>tib-core-subjects</td>\n",
       "      <td>3A1831640503</td>\n",
       "      <td>Chapter 6 Sectoral economics</td>\n",
       "      <td>This chapter discusses a common set of methods...</td>\n",
       "      <td>['gnd:4011152-0', 'gnd:4066528-8', 'gnd:414825...</td>\n",
       "      <td>['Datenverarbeitung', 'Wirtschaftswissenschaft...</td>\n",
       "    </tr>\n",
       "    <tr>\n",
       "      <th>28</th>\n",
       "      <td>en</td>\n",
       "      <td>dev</td>\n",
       "      <td>Article</td>\n",
       "      <td>all-subjects</td>\n",
       "      <td>3A1831640503</td>\n",
       "      <td>Chapter 6 Sectoral economics</td>\n",
       "      <td>This chapter discusses a common set of methods...</td>\n",
       "      <td>['gnd:4011152-0', 'gnd:4066528-8', 'gnd:414825...</td>\n",
       "      <td>['Datenverarbeitung', 'Wirtschaftswissenschaft...</td>\n",
       "    </tr>\n",
       "  </tbody>\n",
       "</table>\n",
       "</div>"
      ],
      "text/plain": [
       "   language split text_type           subjects           idn  \\\n",
       "5        en   dev   Article  tib-core-subjects  3A1831640503   \n",
       "28       en   dev   Article       all-subjects  3A1831640503   \n",
       "\n",
       "                           title  \\\n",
       "5   Chapter 6 Sectoral economics   \n",
       "28  Chapter 6 Sectoral economics   \n",
       "\n",
       "                                             abstract  \\\n",
       "5   This chapter discusses a common set of methods...   \n",
       "28  This chapter discusses a common set of methods...   \n",
       "\n",
       "                                      dcterms:subject  \\\n",
       "5   ['gnd:4011152-0', 'gnd:4066528-8', 'gnd:414825...   \n",
       "28  ['gnd:4011152-0', 'gnd:4066528-8', 'gnd:414825...   \n",
       "\n",
       "                                               labels  \n",
       "5   ['Datenverarbeitung', 'Wirtschaftswissenschaft...  \n",
       "28  ['Datenverarbeitung', 'Wirtschaftswissenschaft...  "
      ]
     },
     "execution_count": 11,
     "metadata": {},
     "output_type": "execute_result"
    }
   ],
   "source": [
    "entire[entire.idn==\"3A1831640503\"]"
   ]
  },
  {
   "cell_type": "code",
   "execution_count": 14,
   "metadata": {},
   "outputs": [
    {
     "data": {
      "text/plain": [
       "(19949, 9)"
      ]
     },
     "execution_count": 14,
     "metadata": {},
     "output_type": "execute_result"
    }
   ],
   "source": [
    "entire_dedup = entire.drop_duplicates(subset=\"idn\")\n",
    "entire_dedup.shape"
   ]
  },
  {
   "cell_type": "code",
   "execution_count": 16,
   "metadata": {},
   "outputs": [],
   "source": [
    "subjects = [\"tib-core-subjects\", \"all-subjects\"]\n",
    "text_types = [\"Article\", \"Book\", \"Conference\", \"Report\", \"Thesis\"]\n",
    "languages = [\"en\", \"de\"]\n",
    "idns = []\n",
    "percentage = 0.05"
   ]
  },
  {
   "cell_type": "code",
   "execution_count": 35,
   "metadata": {},
   "outputs": [
    {
     "name": "stdout",
     "output_type": "stream",
     "text": [
      "Appended  3  idns for  tib-core-subjects Article en\n",
      "Appended  1  idns for  tib-core-subjects Article de\n",
      "Appended  148  idns for  tib-core-subjects Book en\n",
      "Appended  105  idns for  tib-core-subjects Book de\n",
      "Appended  24  idns for  tib-core-subjects Conference en\n",
      "Appended  6  idns for  tib-core-subjects Conference de\n",
      "Appended  8  idns for  tib-core-subjects Report en\n",
      "Appended  7  idns for  tib-core-subjects Report de\n",
      "Appended  21  idns for  tib-core-subjects Thesis en\n",
      "Appended  32  idns for  tib-core-subjects Thesis de\n",
      "Appended  9  idns for  all-subjects Article en\n",
      "Appended  1  idns for  all-subjects Article de\n",
      "Appended  210  idns for  all-subjects Book en\n",
      "Appended  269  idns for  all-subjects Book de\n",
      "Appended  28  idns for  all-subjects Conference en\n",
      "Appended  19  idns for  all-subjects Conference de\n",
      "Appended  10  idns for  all-subjects Report en\n",
      "Appended  13  idns for  all-subjects Report de\n",
      "Appended  27  idns for  all-subjects Thesis en\n",
      "Appended  67  idns for  all-subjects Thesis de\n"
     ]
    }
   ],
   "source": [
    "idns=[]\n",
    "for subject in subjects:\n",
    "    for text_type in text_types:\n",
    "        for language in languages:\n",
    "            gathered_idns = []\n",
    "            data_subset = entire_dedup[(entire_dedup[\"subjects\"]==subject) & (entire_dedup[\"text_type\"]==text_type) & (entire_dedup[\"language\"]==language)]\n",
    "            # print(\"Subset size: \", data_subset.shape)\n",
    "            goal = int(data_subset.shape[0] * percentage)+1\n",
    "            while len(gathered_idns) < goal:\n",
    "                idn = data_subset.sample(1).idn.values[0]\n",
    "                if idn not in gathered_idns and idn not in idns:\n",
    "                    gathered_idns.append(idn)\n",
    "            print(\"Appended \", len(gathered_idns), \" idns for \", subject, text_type, language)\n",
    "            idns.extend(gathered_idns)\n"
   ]
  },
  {
   "cell_type": "code",
   "execution_count": 37,
   "metadata": {},
   "outputs": [
    {
     "data": {
      "text/plain": [
       "(1008, 9)"
      ]
     },
     "execution_count": 37,
     "metadata": {},
     "output_type": "execute_result"
    }
   ],
   "source": [
    "sampled_dev_set = entire_dedup[entire_dedup.idn.isin(idns)]\n",
    "sampled_dev_set.shape"
   ]
  },
  {
   "cell_type": "code",
   "execution_count": 39,
   "metadata": {},
   "outputs": [
    {
     "data": {
      "text/html": [
       "<div>\n",
       "<style scoped>\n",
       "    .dataframe tbody tr th:only-of-type {\n",
       "        vertical-align: middle;\n",
       "    }\n",
       "\n",
       "    .dataframe tbody tr th {\n",
       "        vertical-align: top;\n",
       "    }\n",
       "\n",
       "    .dataframe thead th {\n",
       "        text-align: right;\n",
       "    }\n",
       "</style>\n",
       "<table border=\"1\" class=\"dataframe\">\n",
       "  <thead>\n",
       "    <tr style=\"text-align: right;\">\n",
       "      <th></th>\n",
       "      <th>language</th>\n",
       "      <th>split</th>\n",
       "      <th>text_type</th>\n",
       "      <th>subjects</th>\n",
       "      <th>idn</th>\n",
       "      <th>title</th>\n",
       "      <th>abstract</th>\n",
       "      <th>dcterms:subject</th>\n",
       "      <th>labels</th>\n",
       "    </tr>\n",
       "  </thead>\n",
       "  <tbody>\n",
       "    <tr>\n",
       "      <th>4</th>\n",
       "      <td>en</td>\n",
       "      <td>dev</td>\n",
       "      <td>Article</td>\n",
       "      <td>tib-core-subjects</td>\n",
       "      <td>3A730043045</td>\n",
       "      <td>West Africa: the dynamics and trends of intern...</td>\n",
       "      <td>OECD countries receive a little less than half...</td>\n",
       "      <td>['gnd:4066399-1', 'gnd:4113450-3', 'gnd:406649...</td>\n",
       "      <td>['Wirtschaft', 'Entwicklung', 'Wirtschaftspoli...</td>\n",
       "    </tr>\n",
       "    <tr>\n",
       "      <th>19</th>\n",
       "      <td>en</td>\n",
       "      <td>dev</td>\n",
       "      <td>Article</td>\n",
       "      <td>tib-core-subjects</td>\n",
       "      <td>3A1755559356</td>\n",
       "      <td>Development of a test environment for the eval...</td>\n",
       "      <td>This paper presents a technologically independ...</td>\n",
       "      <td>['gnd:4125909-9']</td>\n",
       "      <td>['Mensch-Maschine-Kommunikation']</td>\n",
       "    </tr>\n",
       "    <tr>\n",
       "      <th>25</th>\n",
       "      <td>en</td>\n",
       "      <td>dev</td>\n",
       "      <td>Article</td>\n",
       "      <td>tib-core-subjects</td>\n",
       "      <td>3A730008428</td>\n",
       "      <td>The Aggregate and Structural Impact of Ageing ...</td>\n",
       "      <td>Ageing will translate into long run trends in ...</td>\n",
       "      <td>['gnd:4068097-6', 'gnd:4067488-5', 'gnd:407378...</td>\n",
       "      <td>['Zukunft', 'Zeitschrift', 'Kreditmarkt']</td>\n",
       "    </tr>\n",
       "    <tr>\n",
       "      <th>43</th>\n",
       "      <td>en</td>\n",
       "      <td>dev</td>\n",
       "      <td>Book</td>\n",
       "      <td>tib-core-subjects</td>\n",
       "      <td>3A1670559300</td>\n",
       "      <td>Wissen, Governance, Recht : von der kognitiven...</td>\n",
       "      <td>This book’s point of departure is the finding ...</td>\n",
       "      <td>['gnd:4066559-8', 'gnd:4135330-4', 'gnd:404377...</td>\n",
       "      <td>['Wissen', 'Rechtsordnung', 'Organisation', 'I...</td>\n",
       "    </tr>\n",
       "    <tr>\n",
       "      <th>46</th>\n",
       "      <td>en</td>\n",
       "      <td>dev</td>\n",
       "      <td>Book</td>\n",
       "      <td>tib-core-subjects</td>\n",
       "      <td>3A729837270</td>\n",
       "      <td>Beginning Visual Basic 2012</td>\n",
       "      <td>\"Using the time-tested Wrox approach, this gui...</td>\n",
       "      <td>['gnd:1027595863']</td>\n",
       "      <td>['Visual Basic 2012']</td>\n",
       "    </tr>\n",
       "  </tbody>\n",
       "</table>\n",
       "</div>"
      ],
      "text/plain": [
       "   language split text_type           subjects           idn  \\\n",
       "4        en   dev   Article  tib-core-subjects   3A730043045   \n",
       "19       en   dev   Article  tib-core-subjects  3A1755559356   \n",
       "25       en   dev   Article  tib-core-subjects   3A730008428   \n",
       "43       en   dev      Book  tib-core-subjects  3A1670559300   \n",
       "46       en   dev      Book  tib-core-subjects   3A729837270   \n",
       "\n",
       "                                                title  \\\n",
       "4   West Africa: the dynamics and trends of intern...   \n",
       "19  Development of a test environment for the eval...   \n",
       "25  The Aggregate and Structural Impact of Ageing ...   \n",
       "43  Wissen, Governance, Recht : von der kognitiven...   \n",
       "46                        Beginning Visual Basic 2012   \n",
       "\n",
       "                                             abstract  \\\n",
       "4   OECD countries receive a little less than half...   \n",
       "19  This paper presents a technologically independ...   \n",
       "25  Ageing will translate into long run trends in ...   \n",
       "43  This book’s point of departure is the finding ...   \n",
       "46  \"Using the time-tested Wrox approach, this gui...   \n",
       "\n",
       "                                      dcterms:subject  \\\n",
       "4   ['gnd:4066399-1', 'gnd:4113450-3', 'gnd:406649...   \n",
       "19                                  ['gnd:4125909-9']   \n",
       "25  ['gnd:4068097-6', 'gnd:4067488-5', 'gnd:407378...   \n",
       "43  ['gnd:4066559-8', 'gnd:4135330-4', 'gnd:404377...   \n",
       "46                                 ['gnd:1027595863']   \n",
       "\n",
       "                                               labels  \n",
       "4   ['Wirtschaft', 'Entwicklung', 'Wirtschaftspoli...  \n",
       "19                  ['Mensch-Maschine-Kommunikation']  \n",
       "25          ['Zukunft', 'Zeitschrift', 'Kreditmarkt']  \n",
       "43  ['Wissen', 'Rechtsordnung', 'Organisation', 'I...  \n",
       "46                              ['Visual Basic 2012']  "
      ]
     },
     "execution_count": 39,
     "metadata": {},
     "output_type": "execute_result"
    }
   ],
   "source": [
    "sampled_dev_set.head()\n"
   ]
  },
  {
   "cell_type": "code",
   "execution_count": 41,
   "metadata": {},
   "outputs": [],
   "source": [
    "sampled_dev_set.to_csv(\"../datasets/all-subjects-tib-core-subjects-Article-Book-Conference-Report-Thesis-en-de-dev_sample1000.csv\", index=False)"
   ]
  },
  {
   "cell_type": "code",
   "execution_count": 36,
   "metadata": {},
   "outputs": [
    {
     "data": {
      "text/plain": [
       "1008"
      ]
     },
     "execution_count": 36,
     "metadata": {},
     "output_type": "execute_result"
    }
   ],
   "source": [
    "len(idns)"
   ]
  },
  {
   "cell_type": "code",
   "execution_count": 33,
   "metadata": {},
   "outputs": [
    {
     "data": {
      "text/plain": [
       "1"
      ]
     },
     "execution_count": 33,
     "metadata": {},
     "output_type": "execute_result"
    }
   ],
   "source": [
    "int(1.1)"
   ]
  },
  {
   "cell_type": "code",
   "execution_count": 27,
   "metadata": {},
   "outputs": [
    {
     "data": {
      "text/plain": [
       "2.1"
      ]
     },
     "execution_count": 27,
     "metadata": {},
     "output_type": "execute_result"
    }
   ],
   "source": [
    "max(int(0.05*7), 1)\n",
    "0.05*42"
   ]
  }
 ],
 "metadata": {
  "kernelspec": {
   "display_name": "llms",
   "language": "python",
   "name": "python3"
  },
  "language_info": {
   "codemirror_mode": {
    "name": "ipython",
    "version": 3
   },
   "file_extension": ".py",
   "mimetype": "text/x-python",
   "name": "python",
   "nbconvert_exporter": "python",
   "pygments_lexer": "ipython3",
   "version": "3.12.2"
  }
 },
 "nbformat": 4,
 "nbformat_minor": 2
}
